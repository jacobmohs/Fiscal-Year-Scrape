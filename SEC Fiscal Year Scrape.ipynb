{
 "cells": [
  {
   "cell_type": "code",
   "execution_count": 1,
   "metadata": {},
   "outputs": [],
   "source": [
    "#TODO:\n",
    "#combine two df into one, \n",
    "#export to csv\n",
    "\n",
    "#import packages\n",
    "import requests\n",
    "import bs4\n",
    "from bs4 import BeautifulSoup\n",
    "import csv\n",
    "import json\n"
   ]
  },
  {
   "cell_type": "code",
   "execution_count": 7,
   "metadata": {},
   "outputs": [
    {
     "data": {
      "text/plain": [
       "0"
      ]
     },
     "execution_count": 7,
     "metadata": {},
     "output_type": "execute_result"
    }
   ],
   "source": [
    "#Load CSV File into Array\n",
    "import csv\n",
    "\n",
    "Fund_Name = []\n",
    "CIK = []\n",
    "Page =[]\n",
    "fiscal_year=[]\n",
    "\n",
    "# access list of companies and CIK#s for which to scrape fiscal years. \n",
    "with open('tender_funds.csv') as csvDataFile:\n",
    "    csvReader = csv.reader(csvDataFile)\n",
    "    for row in csvReader:\n",
    "        Fund_Name.append(row[0])\n",
    "        CIK.append(row[1])\n",
    "        Page.append(row[2])\n",
    "\n",
    "#print(Fund_Name)\n",
    "#print(CIK)\n",
    "#print(Page)\n"
   ]
  },
  {
   "cell_type": "code",
   "execution_count": 8,
   "metadata": {},
   "outputs": [
    {
     "data": {
      "text/plain": [
       "113"
      ]
     },
     "execution_count": 8,
     "metadata": {},
     "output_type": "execute_result"
    }
   ],
   "source": [
    "#scrape urls \n",
    "from requests import get\n",
    "#urls\n",
    "for row in Page:\n",
    "    html=requests.get(row).text\n",
    "    soup=BeautifulSoup(html,'lxml')\n",
    "    containers = soup.find('p', class_ = 'identInfo')\n",
    "    fiscal_year.append(containers.text)\n",
    "#TODO:  Get this back into the csv file or a datatable    \n",
    "    #url = 'https://www.sec.gov/cgi-bin/browse-edgar?CIK=1499857&owner=exclude&action=getcompany&Find=Search'\n",
    "\n",
    "\n",
    "#print(response.text[1000:2000])\n",
    "\n",
    "#print(containers.text)\n",
    "len(fiscal_year)"
   ]
  },
  {
   "cell_type": "code",
   "execution_count": 54,
   "metadata": {},
   "outputs": [
    {
     "name": "stdout",
     "output_type": "stream",
     "text": [
      "(113, 1)\n",
      "(113, 4)\n"
     ]
    }
   ],
   "source": [
    "import pandas as pd\n",
    "import numpy as np\n",
    "thing2= np.asarray(fiscal_year)\n",
    "df1= pd.DataFrame(\n",
    "    {'fiscal_year': fiscal_year,\n",
    "     'Page': Page,\n",
    "     'CIK': CIK,\n",
    "     'Fund_Name':Fund_Name\n",
    "    })\n",
    "df2=pd.DataFrame(Page,fiscal_year)\n",
    "#df3= pd.concat([df1,df2], axis = 1)\n",
    "print(df2.shape)\n",
    "print (df1.shape)\n",
    "#with open('tender_funds.csv', 'a') as f:\n",
    " #   df.to_csv(f,header=False)\n",
    "#result=pd.concat([df1,df2])\n",
    "#.sort_index()\n",
    "\n",
    "#result\n",
    "df1\n",
    "\n",
    "df1.to_csv('tender funds with fy.csv')"
   ]
  },
  {
   "cell_type": "code",
   "execution_count": 5,
   "metadata": {},
   "outputs": [
    {
     "name": "stdout",
     "output_type": "stream",
     "text": [
      "\n",
      "\n",
      "\n",
      "<!DOCTYPE html>\n",
      "<html\n",
      "    xmlns:og=\"http://ogp.me/ns#\"\n",
      "    xmlns:fb=\"http://www.facebook.com/2008/fbml\">\n",
      "    <head>\n",
      "         \n",
      "        <meta charset=\"utf-8\">\n",
      "        <meta http-equiv=\"X-UA-Compatible\" content=\"IE=edge\">\n",
      "\n",
      "    <meta name=\"apple-itunes-app\" content=\"app-id=342792525, app-argument=imdb:///?src=mdot\">\n",
      "\n",
      "\n",
      "\n",
      "        <script type=\"text/javascript\">var IMDbTimer={starttime: new Date().getTime(),pt:'java'};</script>\n",
      "\n",
      "<script>\n",
      "    if (typeof uet == 'function') {\n",
      "      uet(\"bb\", \"LoadTitle\"\n"
     ]
    },
    {
     "data": {
      "text/plain": [
       "bs4.BeautifulSoup"
      ]
     },
     "execution_count": 5,
     "metadata": {},
     "output_type": "execute_result"
    }
   ],
   "source": []
  },
  {
   "cell_type": "code",
   "execution_count": 32,
   "metadata": {},
   "outputs": [
    {
     "name": "stdout",
     "output_type": "stream",
     "text": [
      "<class 'bs4.element.Tag'>\n",
      "5\n"
     ]
    }
   ],
   "source": []
  },
  {
   "cell_type": "code",
   "execution_count": 33,
   "metadata": {},
   "outputs": [
    {
     "data": {
      "text/plain": [
       "'State location: NC | State of Inc.: DE | Fiscal Year End: 0331'"
      ]
     },
     "execution_count": 33,
     "metadata": {},
     "output_type": "execute_result"
    }
   ],
   "source": [
    "\n",
    "\n"
   ]
  },
  {
   "cell_type": "code",
   "execution_count": null,
   "metadata": {},
   "outputs": [],
   "source": []
  },
  {
   "cell_type": "code",
   "execution_count": 20,
   "metadata": {},
   "outputs": [
    {
     "data": {
      "text/plain": [
       "<_io.TextIOWrapper name='tender_funds.json' mode='w' encoding='cp1252'>"
      ]
     },
     "execution_count": 20,
     "metadata": {},
     "output_type": "execute_result"
    }
   ],
   "source": [
    "#convert csv file to list\n",
    "#list= []\n",
    "#csvfile = open('tender_funds.csv', 'r')\n",
    "#jsonfile = open('tender_funds.json', 'w')\n",
    "#fieldnames=('Fund Name', 'CIK#', 'Page for filings')\n",
    "#reader = csv.DictReader( csvfile, fieldnames)\n",
    "#for row in reader:\n",
    " #   json.dump(row, jsonfile)\n",
    "  #  jsonfile.write('\\n')\n",
    "\n",
    "#jsonfile"
   ]
  }
 ],
 "metadata": {
  "kernelspec": {
   "display_name": "Python 3",
   "language": "python",
   "name": "python3"
  },
  "language_info": {
   "codemirror_mode": {
    "name": "ipython",
    "version": 3
   },
   "file_extension": ".py",
   "mimetype": "text/x-python",
   "name": "python",
   "nbconvert_exporter": "python",
   "pygments_lexer": "ipython3",
   "version": "3.6.4"
  }
 },
 "nbformat": 4,
 "nbformat_minor": 2
}
